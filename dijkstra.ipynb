{
 "cells": [
  {
   "cell_type": "code",
   "execution_count": 1,
   "metadata": {
    "ExecuteTime": {
     "end_time": "2021-07-22T04:44:15.679221Z",
     "start_time": "2021-07-22T04:44:15.666733Z"
    }
   },
   "outputs": [],
   "source": [
    "dist_tbl = {}\n",
    "Q = []\n",
    "S = []\n",
    "\n",
    "G = {'a': {'b': 4, 'c': 3}, 'b': {'a': 4, 'c': 2, 'd': 3}, 'c': {'a': 3, 'b': 2, 'e': 4}, 'd': {'b': 3, 'e': 5}, 'e': {'c': 4, 'd': 5}}\n",
    "source = 'a'\n",
    "\n",
    "inf = sum(max(_[1] for _ in list(G[v].items())) for v in G) + 1"
   ]
  },
  {
   "cell_type": "code",
   "execution_count": 2,
   "metadata": {
    "ExecuteTime": {
     "end_time": "2021-07-22T04:44:15.690818Z",
     "start_time": "2021-07-22T04:44:15.682902Z"
    }
   },
   "outputs": [],
   "source": [
    "for v in G:\n",
    "    dist_tbl[v] = {'dist': None, 'prev': None}\n",
    "    if v == source:\n",
    "        dist_tbl[v]['dist'] = 0\n",
    "    else:\n",
    "        dist_tbl[v]['dist'] = inf\n",
    "    dist_tbl[v]['prev'] = 'undef'\n",
    "\n",
    "Q = sorted(G.keys(), key=lambda v: dist_tbl[v]['dist'])"
   ]
  },
  {
   "cell_type": "code",
   "execution_count": 3,
   "metadata": {
    "ExecuteTime": {
     "end_time": "2021-07-22T04:44:15.736638Z",
     "start_time": "2021-07-22T04:44:15.698612Z"
    }
   },
   "outputs": [],
   "source": [
    "while Q:\n",
    "    u = Q[0]\n",
    "    for v in G[u]:\n",
    "        if v in Q:\n",
    "            dist = dist_tbl[u]['dist'] + G[u][v]\n",
    "        \n",
    "        if dist < dist_tbl[v]['dist']:\n",
    "            dist_tbl[v]['dist'] = dist\n",
    "            dist_tbl[v]['prev'] = u\n",
    "            \n",
    "    S += Q.pop(0)\n",
    "    Q = sorted(Q, key=lambda v: dist_tbl[v]['dist'])\n",
    "    \n"
   ]
  }
 ],
 "metadata": {
  "kernelspec": {
   "display_name": "Python 3",
   "language": "python",
   "name": "python3"
  },
  "language_info": {
   "codemirror_mode": {
    "name": "ipython",
    "version": 3
   },
   "file_extension": ".py",
   "mimetype": "text/x-python",
   "name": "python",
   "nbconvert_exporter": "python",
   "pygments_lexer": "ipython3",
   "version": "3.8.3"
  },
  "toc": {
   "base_numbering": 1,
   "nav_menu": {},
   "number_sections": true,
   "sideBar": true,
   "skip_h1_title": false,
   "title_cell": "Table of Contents",
   "title_sidebar": "Contents",
   "toc_cell": false,
   "toc_position": {},
   "toc_section_display": true,
   "toc_window_display": false
  },
  "varInspector": {
   "cols": {
    "lenName": 16,
    "lenType": 16,
    "lenVar": 40
   },
   "kernels_config": {
    "python": {
     "delete_cmd_postfix": "",
     "delete_cmd_prefix": "del ",
     "library": "var_list.py",
     "varRefreshCmd": "print(var_dic_list())"
    },
    "r": {
     "delete_cmd_postfix": ") ",
     "delete_cmd_prefix": "rm(",
     "library": "var_list.r",
     "varRefreshCmd": "cat(var_dic_list()) "
    }
   },
   "types_to_exclude": [
    "module",
    "function",
    "builtin_function_or_method",
    "instance",
    "_Feature"
   ],
   "window_display": false
  }
 },
 "nbformat": 4,
 "nbformat_minor": 4
}
