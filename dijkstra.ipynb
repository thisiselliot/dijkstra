{
 "cells": [
  {
   "cell_type": "markdown",
   "metadata": {},
   "source": [
    "Dijkstra’s algorithm solves the single-source shortest-paths problem on a weighted, directed graph *G = (V, E)* for the case in which all edge weights are nonnegative."
   ]
  },
  {
   "cell_type": "code",
   "execution_count": 1,
   "metadata": {
    "ExecuteTime": {
     "end_time": "2021-07-28T20:41:29.185397Z",
     "start_time": "2021-07-28T20:41:29.169081Z"
    }
   },
   "outputs": [],
   "source": [
    "dist_tbl = {}\n",
    "\n",
    "#1 INITIALIZE-SINGLE-SOURCE(G, s)\n",
    "# G = {'a': {'b': 4, 'c': 3},\n",
    "#      'b': {'a': 4, 'c': 2, 'd': 3},\n",
    "#      'c': {'a': 3, 'b': 2, 'e': 4},\n",
    "#      'd': {'b': 3, 'e': 5},\n",
    "#      'e': {'c': 4, 'd': 5}}\n",
    "# source = 'a'\n",
    "\n",
    "G = {'a': {'b': 5, 'c': 7, 'd': 2},\n",
    "     'b': {'a': 5, 'e': 4},\n",
    "     'c': {'a': 7, 'd': 3, 'f': 5},\n",
    "     'd': {'a': 2, 'c': 3, 'e': 4, 'g': 6},\n",
    "     'e': {'b': 4, 'd': 4, 'g': 2},\n",
    "     'f': {'c': 5, 'g': 7, 'h': 6},\n",
    "     'g': {'d': 6, 'e': 2, 'f': 7, 'h': 3},\n",
    "     'h': {'f': 6, 'g': 3}}\n",
    "source = 'a'\n",
    "\n",
    "#2 S = ∅\n",
    "S = []"
   ]
  },
  {
   "cell_type": "code",
   "execution_count": 2,
   "metadata": {
    "ExecuteTime": {
     "end_time": "2021-07-28T20:41:29.201348Z",
     "start_time": "2021-07-28T20:41:29.191120Z"
    }
   },
   "outputs": [],
   "source": [
    "#3 Q = G.V\n",
    "for v in G:\n",
    "    dist_tbl[v] = {'dist': None, 'prev': None}\n",
    "    if v == source:\n",
    "        dist_tbl[v]['dist'] = 0\n",
    "    else:\n",
    "        dist_tbl[v]['dist'] = float('inf')\n",
    "    dist_tbl[v]['prev'] = 'undef'\n",
    "\n",
    "# min-priority queue Q of vertices, keyed by their dist values\n",
    "Q = sorted(G.keys(), key=lambda v: dist_tbl[v]['dist'])"
   ]
  },
  {
   "cell_type": "code",
   "execution_count": 3,
   "metadata": {
    "ExecuteTime": {
     "end_time": "2021-07-28T20:41:29.248616Z",
     "start_time": "2021-07-28T20:41:29.216648Z"
    }
   },
   "outputs": [],
   "source": [
    "#4 while Q ≠ ∅\n",
    "while Q:\n",
    "    \n",
    "    #5 u = Extract-Min(Q)\n",
    "    u = Q[0]\n",
    "    \n",
    "    #6 S = S ∪ U        \n",
    "    S += Q.pop(0)\n",
    "    \n",
    "    #7 for each vertex v ∈ G.Adj[u]\n",
    "    for v in G[u]:\n",
    "        if v in Q:\n",
    "            dist = dist_tbl[u]['dist'] + G[u][v]\n",
    "            \n",
    "        #8 Relax(u, v, w)\n",
    "        if dist < dist_tbl[v]['dist']:\n",
    "            dist_tbl[v]['dist'] = dist\n",
    "            dist_tbl[v]['prev'] = u\n",
    "            \n",
    "    Q = sorted(Q, key=lambda v: dist_tbl[v]['dist'])"
   ]
  },
  {
   "cell_type": "code",
   "execution_count": 4,
   "metadata": {
    "ExecuteTime": {
     "end_time": "2021-07-28T20:41:29.279678Z",
     "start_time": "2021-07-28T20:41:29.259460Z"
    }
   },
   "outputs": [
    {
     "data": {
      "text/plain": [
       "['a', 'd', 'b', 'c', 'e', 'g', 'f', 'h']"
      ]
     },
     "execution_count": 4,
     "metadata": {},
     "output_type": "execute_result"
    }
   ],
   "source": [
    "S"
   ]
  },
  {
   "cell_type": "code",
   "execution_count": 5,
   "metadata": {
    "ExecuteTime": {
     "end_time": "2021-07-28T20:41:29.295730Z",
     "start_time": "2021-07-28T20:41:29.286490Z"
    }
   },
   "outputs": [
    {
     "data": {
      "text/plain": [
       "{'a': {'dist': 0, 'prev': 'undef'},\n",
       " 'b': {'dist': 5, 'prev': 'a'},\n",
       " 'c': {'dist': 5, 'prev': 'd'},\n",
       " 'd': {'dist': 2, 'prev': 'a'},\n",
       " 'e': {'dist': 6, 'prev': 'd'},\n",
       " 'f': {'dist': 10, 'prev': 'c'},\n",
       " 'g': {'dist': 8, 'prev': 'd'},\n",
       " 'h': {'dist': 11, 'prev': 'g'}}"
      ]
     },
     "execution_count": 5,
     "metadata": {},
     "output_type": "execute_result"
    }
   ],
   "source": [
    "dist_tbl"
   ]
  },
  {
   "cell_type": "code",
   "execution_count": null,
   "metadata": {},
   "outputs": [],
   "source": []
  }
 ],
 "metadata": {
  "kernelspec": {
   "display_name": "Python 3",
   "language": "python",
   "name": "python3"
  },
  "language_info": {
   "codemirror_mode": {
    "name": "ipython",
    "version": 3
   },
   "file_extension": ".py",
   "mimetype": "text/x-python",
   "name": "python",
   "nbconvert_exporter": "python",
   "pygments_lexer": "ipython3",
   "version": "3.8.3"
  },
  "toc": {
   "base_numbering": 1,
   "nav_menu": {},
   "number_sections": true,
   "sideBar": true,
   "skip_h1_title": false,
   "title_cell": "Table of Contents",
   "title_sidebar": "Contents",
   "toc_cell": false,
   "toc_position": {},
   "toc_section_display": true,
   "toc_window_display": false
  },
  "varInspector": {
   "cols": {
    "lenName": 16,
    "lenType": 16,
    "lenVar": 40
   },
   "kernels_config": {
    "python": {
     "delete_cmd_postfix": "",
     "delete_cmd_prefix": "del ",
     "library": "var_list.py",
     "varRefreshCmd": "print(var_dic_list())"
    },
    "r": {
     "delete_cmd_postfix": ") ",
     "delete_cmd_prefix": "rm(",
     "library": "var_list.r",
     "varRefreshCmd": "cat(var_dic_list()) "
    }
   },
   "types_to_exclude": [
    "module",
    "function",
    "builtin_function_or_method",
    "instance",
    "_Feature"
   ],
   "window_display": false
  }
 },
 "nbformat": 4,
 "nbformat_minor": 4
}
