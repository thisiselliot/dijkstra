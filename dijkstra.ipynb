{
 "cells": [
  {
   "cell_type": "code",
   "execution_count": 6,
   "metadata": {
    "ExecuteTime": {
     "end_time": "2021-07-17T23:11:18.875512Z",
     "start_time": "2021-07-17T23:11:18.831713Z"
    }
   },
   "outputs": [
    {
     "name": "stdout",
     "output_type": "stream",
     "text": [
      "[nodename\" A\n",
      "connections: {'B': 5, 'C': 7, 'D': 2}\n",
      "cost_table:\n",
      " \tNode\tCost\tPrevious\n",
      "\tA\t0\tNone\n",
      "\tB\t5\tA\n",
      "\tC\t7\tA\n",
      "\tD\t2\tA\n",
      "]\n"
     ]
    }
   ],
   "source": [
    "class Node:\n",
    "    def __init__(self, nodename, connections):\n",
    "        self.nodename = nodename\n",
    "        self.connections = connections\n",
    "        \n",
    "        self.cost_table = {self.nodename: {'cost': 0,\n",
    "                                           'previous': None}}\n",
    "        \n",
    "        for name, cost in self.connections.items():\n",
    "            self.cost_table[name] = {'cost': cost,\n",
    "                                     'previous': self.nodename}\n",
    "    \n",
    "    def __repr__(self):\n",
    "        cost_table_header = '\\tNode\\tCost\\tPrevious\\n'\n",
    "        cost_table_str = ''.join(\n",
    "            [f'\\t{node}\\t{vals[\"cost\"]}\\t{vals[\"previous\"]}\\n' \n",
    "             for node, vals\n",
    "             in self.cost_table.items()]\n",
    "        )\n",
    "        \n",
    "        return f'nodename\" {self.nodename}\\nconnections: {self.connections}\\ncost_table:\\n {cost_table_header}{cost_table_str}'\n",
    "\n",
    "    def __str__(self):\n",
    "        cost_table_header = '\\tNode\\tCost\\tPrevious\\n'\n",
    "        cost_table_str = ''.join(\n",
    "            [f'\\t{node}\\t{vals[\"cost\"]}\\t{vals[\"previous\"]}\\n' \n",
    "             for node, vals\n",
    "             in self.cost_table.items()]\n",
    "        )\n",
    "        \n",
    "        return f'nodename\" {self.nodename}\\nconnections: {self.connections}\\ncost_table:\\n {cost_table_header}{cost_table_str}'\n",
    "\n",
    "\n",
    "    def build_cost_table(self, graph):\n",
    "        pass\n",
    "    \n",
    "if __name__ == '__main__':\n",
    "    # define nodes\n",
    "    A = Node('A', {'B': 5, 'C': 7, 'D':2})\n",
    "#     print(A)\n",
    "\n",
    "    graph = Graph()\n",
    "    graph.add_nodes([A])\n",
    "    \n",
    "    print(graph.nodes_in_graph)"
   ]
  },
  {
   "cell_type": "code",
   "execution_count": null,
   "metadata": {},
   "outputs": [],
   "source": []
  }
 ],
 "metadata": {
  "kernelspec": {
   "display_name": "Python 3",
   "language": "python",
   "name": "python3"
  },
  "language_info": {
   "codemirror_mode": {
    "name": "ipython",
    "version": 3
   },
   "file_extension": ".py",
   "mimetype": "text/x-python",
   "name": "python",
   "nbconvert_exporter": "python",
   "pygments_lexer": "ipython3",
   "version": "3.8.3"
  },
  "toc": {
   "base_numbering": 1,
   "nav_menu": {},
   "number_sections": true,
   "sideBar": true,
   "skip_h1_title": false,
   "title_cell": "Table of Contents",
   "title_sidebar": "Contents",
   "toc_cell": false,
   "toc_position": {},
   "toc_section_display": true,
   "toc_window_display": false
  },
  "varInspector": {
   "cols": {
    "lenName": 16,
    "lenType": 16,
    "lenVar": 40
   },
   "kernels_config": {
    "python": {
     "delete_cmd_postfix": "",
     "delete_cmd_prefix": "del ",
     "library": "var_list.py",
     "varRefreshCmd": "print(var_dic_list())"
    },
    "r": {
     "delete_cmd_postfix": ") ",
     "delete_cmd_prefix": "rm(",
     "library": "var_list.r",
     "varRefreshCmd": "cat(var_dic_list()) "
    }
   },
   "types_to_exclude": [
    "module",
    "function",
    "builtin_function_or_method",
    "instance",
    "_Feature"
   ],
   "window_display": false
  }
 },
 "nbformat": 4,
 "nbformat_minor": 4
}
